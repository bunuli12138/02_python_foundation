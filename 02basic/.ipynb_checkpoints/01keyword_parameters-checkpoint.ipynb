{
 "cells": [
  {
   "cell_type": "markdown",
   "metadata": {},
   "source": [
    "## **kw的应用"
   ]
  },
  {
   "cell_type": "code",
   "execution_count": 8,
   "metadata": {},
   "outputs": [],
   "source": [
    "extra = {'city': 'Beijing', 'job': 'Engineer'} # 定义一个字典"
   ]
  },
  {
   "cell_type": "code",
   "execution_count": 9,
   "metadata": {},
   "outputs": [
    {
     "name": "stdout",
     "output_type": "stream",
     "text": [
      "name: Michael age: 30 other: {}\n",
      "name: Jack age: 24 other: {'city': 'Beijing', 'job': 'Engineer'}\n",
      "name: Adam age: 45 other: {'gender': 'M', 'job': 'Engineer'}\n"
     ]
    }
   ],
   "source": [
    "# 定义为**kw时：\n",
    "def person(name, age, **kw):\n",
    "    print('name:', name, 'age:', age, 'other:', kw) # 调用时不能用**kw\n",
    "person('Michael', 30) # 不输入时\n",
    "person('Jack', 24, **extra) # 输入dict时\n",
    "person('Adam', 45, gender='M', job='Engineer') # 输入多参数时"
   ]
  },
  {
   "cell_type": "code",
   "execution_count": 10,
   "metadata": {},
   "outputs": [
    {
     "name": "stdout",
     "output_type": "stream",
     "text": [
      "name: Jack age: 24 other: Beijing Engineer\n"
     ]
    }
   ],
   "source": [
    "# 定义为多参数时：\n",
    "def p(name, age, city='', job=''):\n",
    "    print('name:', name, 'age:', age, 'other:', city, job)\n",
    "p('Jack', 24, **extra) # 输入为dict"
   ]
  },
  {
   "cell_type": "code",
   "execution_count": 11,
   "metadata": {},
   "outputs": [
    {
     "name": "stdout",
     "output_type": "stream",
     "text": [
      "name: Jack age: 24 other: Beijing Engineer\n"
     ]
    }
   ],
   "source": [
    "# *分隔法\n",
    "def per(name, age, *, city, job):\n",
    "    print('name:', name, 'age:', age, 'other:', city, job)\n",
    "per('Jack', 24, **extra)"
   ]
  },
  {
   "cell_type": "code",
   "execution_count": 27,
   "metadata": {},
   "outputs": [],
   "source": [
    "args = (1, 2, 3, 4)\n",
    "arg = (1, 2, 3)\n",
    "kw = {'d': 99, 'x': '#'}"
   ]
  },
  {
   "cell_type": "code",
   "execution_count": 29,
   "metadata": {},
   "outputs": [
    {
     "name": "stdout",
     "output_type": "stream",
     "text": [
      "a = 1 b = 2 3 c = 0 d = 99 kw = {'x': '#'}\n"
     ]
    }
   ],
   "source": [
    "def son(a, b, e, c=0, *, d, **kw):\n",
    "    print('a =', a, 'b =', b, e,  'c =', c, 'd =', d, 'kw =', kw)\n",
    "son(*arg, **kw)\n",
    "# son(*kw, **kw) # **后接mapping，*后接多多元素"
   ]
  },
  {
   "cell_type": "markdown",
   "metadata": {},
   "source": [
    "__END__"
   ]
  }
 ],
 "metadata": {
  "kernelspec": {
   "display_name": "Python 3",
   "language": "python",
   "name": "python3"
  },
  "language_info": {
   "codemirror_mode": {
    "name": "ipython",
    "version": 3
   },
   "file_extension": ".py",
   "mimetype": "text/x-python",
   "name": "python",
   "nbconvert_exporter": "python",
   "pygments_lexer": "ipython3",
   "version": "3.6.6"
  }
 },
 "nbformat": 4,
 "nbformat_minor": 2
}
